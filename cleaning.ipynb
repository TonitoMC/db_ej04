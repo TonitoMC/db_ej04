{
 "cells": [
  {
   "cell_type": "markdown",
   "metadata": {},
   "source": [
    "# Limpieza de Datos\n",
    "Para trabajar con los CSV decidi limpiar un poco los CSV's, limpiando columnas que no son de interes."
   ]
  },
  {
   "cell_type": "code",
   "execution_count": 65,
   "metadata": {},
   "outputs": [],
   "source": [
    "import pandas as pd\n",
    "modern_feb = pd.read_csv('data/modern-feb.csv')\n",
    "modern_mar = pd.read_csv('data/modern-mar.csv')\n",
    "vintage_feb = pd.read_csv('data/vintage-feb.csv')\n",
    "vintage_mar = pd.read_csv('data/vintage-mar.csv')\n",
    "\n",
    "dfs = [modern_feb, modern_mar, vintage_feb, vintage_mar]"
   ]
  },
  {
   "cell_type": "markdown",
   "metadata": {},
   "source": [
    "## Necesitamos lo siguiente\n",
    "- Precios Normal, Reverse Holofoil, Holofoil + Low, High, Average c/u\n",
    "\n",
    "- Tipo de Pokemon + Tipo de Carta\n",
    "\n",
    "- Fecha de Actualizacion"
   ]
  },
  {
   "cell_type": "markdown",
   "metadata": {},
   "source": [
    "Drop de columnas no relevantes"
   ]
  },
  {
   "cell_type": "code",
   "execution_count": 66,
   "metadata": {},
   "outputs": [],
   "source": [
    "for df in dfs:\n",
    "    df.drop(columns=['Pokedex Number', 'Subtypes', 'HP', 'Attacks', 'Weaknesses', 'Retreat Cost', 'Set Name', 'Release Date', 'Artist', 'Rarity', 'Card Image (Small)', 'Card Image HiRes', 'TCG Player URL'], inplace = True)"
   ]
  },
  {
   "cell_type": "markdown",
   "metadata": {},
   "source": [
    "Rename de columnas para tener mas claridad"
   ]
  },
  {
   "cell_type": "code",
   "execution_count": 67,
   "metadata": {},
   "outputs": [],
   "source": [
    "for df in dfs:\n",
    "    df.rename( columns = {\n",
    "        'ID' : 'id',\n",
    "        'Name' : 'name',\n",
    "        'Supertype' : 'supertype',\n",
    "        'Types' : 'types',\n",
    "        'TCG Price Date' : 'price_date',\n",
    "        'TCG Market Price USD (Normal)' : 'normal_market',\n",
    "        'TCG Low Price USD (Normal)' : 'normal_low',\n",
    "        'TCG High Price USD (Normal)' : 'normal_high',\n",
    "        'TCG Market Price USD (Reverse Holofoil)' : 'reverse_market',\n",
    "        'TCG Low Price USD (Reverse Holofoil)' : 'reverse_low',\n",
    "        'TCG High Price USD (Reverse Holofoil)' : 'reverse_high',\n",
    "        'TCG Market Price USD (Holofoil)' : 'holo_market',\n",
    "        'TCG Low Price USD (Holofoil)' : 'holo_low',\n",
    "        'TCG High Price USD (Holofoil)' : 'holo_high',\n",
    "    }, inplace = True)"
   ]
  },
  {
   "cell_type": "code",
   "execution_count": 68,
   "metadata": {},
   "outputs": [
    {
     "data": {
      "text/html": [
       "<div>\n",
       "<style scoped>\n",
       "    .dataframe tbody tr th:only-of-type {\n",
       "        vertical-align: middle;\n",
       "    }\n",
       "\n",
       "    .dataframe tbody tr th {\n",
       "        vertical-align: top;\n",
       "    }\n",
       "\n",
       "    .dataframe thead th {\n",
       "        text-align: right;\n",
       "    }\n",
       "</style>\n",
       "<table border=\"1\" class=\"dataframe\">\n",
       "  <thead>\n",
       "    <tr style=\"text-align: right;\">\n",
       "      <th></th>\n",
       "      <th>id</th>\n",
       "      <th>name</th>\n",
       "      <th>supertype</th>\n",
       "      <th>types</th>\n",
       "      <th>price_date</th>\n",
       "      <th>normal_market</th>\n",
       "      <th>normal_low</th>\n",
       "      <th>normal_high</th>\n",
       "      <th>reverse_market</th>\n",
       "      <th>reverse_low</th>\n",
       "      <th>reverse_high</th>\n",
       "      <th>holo_market</th>\n",
       "      <th>holo_low</th>\n",
       "      <th>holo_high</th>\n",
       "    </tr>\n",
       "  </thead>\n",
       "  <tbody>\n",
       "    <tr>\n",
       "      <th>0</th>\n",
       "      <td>swsh1-1</td>\n",
       "      <td>Celebi V</td>\n",
       "      <td>Pokémon</td>\n",
       "      <td>Grass</td>\n",
       "      <td>2025/02/22</td>\n",
       "      <td>NaN</td>\n",
       "      <td>NaN</td>\n",
       "      <td>NaN</td>\n",
       "      <td>NaN</td>\n",
       "      <td>NaN</td>\n",
       "      <td>NaN</td>\n",
       "      <td>0.83</td>\n",
       "      <td>0.49</td>\n",
       "      <td>7.99</td>\n",
       "    </tr>\n",
       "    <tr>\n",
       "      <th>1</th>\n",
       "      <td>swsh1-2</td>\n",
       "      <td>Roselia</td>\n",
       "      <td>Pokémon</td>\n",
       "      <td>Grass</td>\n",
       "      <td>2025/02/22</td>\n",
       "      <td>0.07</td>\n",
       "      <td>0.01</td>\n",
       "      <td>1.31</td>\n",
       "      <td>0.20</td>\n",
       "      <td>0.05</td>\n",
       "      <td>2.00</td>\n",
       "      <td>NaN</td>\n",
       "      <td>NaN</td>\n",
       "      <td>NaN</td>\n",
       "    </tr>\n",
       "    <tr>\n",
       "      <th>2</th>\n",
       "      <td>swsh1-3</td>\n",
       "      <td>Roselia</td>\n",
       "      <td>Pokémon</td>\n",
       "      <td>Grass</td>\n",
       "      <td>2025/02/22</td>\n",
       "      <td>0.05</td>\n",
       "      <td>0.01</td>\n",
       "      <td>1.31</td>\n",
       "      <td>0.20</td>\n",
       "      <td>0.05</td>\n",
       "      <td>1.14</td>\n",
       "      <td>NaN</td>\n",
       "      <td>NaN</td>\n",
       "      <td>NaN</td>\n",
       "    </tr>\n",
       "    <tr>\n",
       "      <th>3</th>\n",
       "      <td>swsh1-4</td>\n",
       "      <td>Roserade</td>\n",
       "      <td>Pokémon</td>\n",
       "      <td>Grass</td>\n",
       "      <td>2025/02/22</td>\n",
       "      <td>0.18</td>\n",
       "      <td>0.03</td>\n",
       "      <td>2.00</td>\n",
       "      <td>0.49</td>\n",
       "      <td>0.24</td>\n",
       "      <td>4.99</td>\n",
       "      <td>NaN</td>\n",
       "      <td>NaN</td>\n",
       "      <td>NaN</td>\n",
       "    </tr>\n",
       "    <tr>\n",
       "      <th>4</th>\n",
       "      <td>swsh1-5</td>\n",
       "      <td>Cottonee</td>\n",
       "      <td>Pokémon</td>\n",
       "      <td>Grass</td>\n",
       "      <td>2025/02/22</td>\n",
       "      <td>0.06</td>\n",
       "      <td>0.01</td>\n",
       "      <td>5.01</td>\n",
       "      <td>0.20</td>\n",
       "      <td>0.06</td>\n",
       "      <td>2.00</td>\n",
       "      <td>NaN</td>\n",
       "      <td>NaN</td>\n",
       "      <td>NaN</td>\n",
       "    </tr>\n",
       "  </tbody>\n",
       "</table>\n",
       "</div>"
      ],
      "text/plain": [
       "        id      name supertype  types  price_date  normal_market  normal_low  \\\n",
       "0  swsh1-1  Celebi V   Pokémon  Grass  2025/02/22            NaN         NaN   \n",
       "1  swsh1-2   Roselia   Pokémon  Grass  2025/02/22           0.07        0.01   \n",
       "2  swsh1-3   Roselia   Pokémon  Grass  2025/02/22           0.05        0.01   \n",
       "3  swsh1-4  Roserade   Pokémon  Grass  2025/02/22           0.18        0.03   \n",
       "4  swsh1-5  Cottonee   Pokémon  Grass  2025/02/22           0.06        0.01   \n",
       "\n",
       "   normal_high  reverse_market  reverse_low  reverse_high  holo_market  \\\n",
       "0          NaN             NaN          NaN           NaN         0.83   \n",
       "1         1.31            0.20         0.05          2.00          NaN   \n",
       "2         1.31            0.20         0.05          1.14          NaN   \n",
       "3         2.00            0.49         0.24          4.99          NaN   \n",
       "4         5.01            0.20         0.06          2.00          NaN   \n",
       "\n",
       "   holo_low  holo_high  \n",
       "0      0.49       7.99  \n",
       "1       NaN        NaN  \n",
       "2       NaN        NaN  \n",
       "3       NaN        NaN  \n",
       "4       NaN        NaN  "
      ]
     },
     "execution_count": 68,
     "metadata": {},
     "output_type": "execute_result"
    }
   ],
   "source": [
    "modern_feb.head()"
   ]
  },
  {
   "cell_type": "markdown",
   "metadata": {},
   "source": [
    "Agregar columna de mes para apegarse mas al diagrama de la DB y exportar a un solo CSV para cargar a Postgres"
   ]
  },
  {
   "cell_type": "code",
   "execution_count": 69,
   "metadata": {},
   "outputs": [],
   "source": [
    "modern_feb['month'] = 'feb'\n",
    "vintage_feb['month'] = 'feb'\n",
    "vintage_mar['month'] = 'mar'\n",
    "modern_mar['month'] = 'mar'\n",
    "\n",
    "clean_data = pd.concat([modern_feb, modern_mar, vintage_feb, vintage_mar])\n",
    "clean_data.to_csv('data/clean_data.csv', index=False)"
   ]
  }
 ],
 "metadata": {
  "kernelspec": {
   "display_name": ".venv",
   "language": "python",
   "name": "python3"
  },
  "language_info": {
   "codemirror_mode": {
    "name": "ipython",
    "version": 3
   },
   "file_extension": ".py",
   "mimetype": "text/x-python",
   "name": "python",
   "nbconvert_exporter": "python",
   "pygments_lexer": "ipython3",
   "version": "3.13.2"
  }
 },
 "nbformat": 4,
 "nbformat_minor": 2
}
